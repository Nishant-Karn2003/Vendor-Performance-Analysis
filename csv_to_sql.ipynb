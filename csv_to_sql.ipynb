{
 "cells": [
  {
   "cell_type": "code",
   "execution_count": null,
   "id": "1468394d-8569-4d91-805b-76e899fed1ee",
   "metadata": {},
   "outputs": [
    {
     "name": "stdout",
     "output_type": "stream",
     "text": [
      "✅ Loaded begin_inventory.csv into table `begin_inventory`\n",
      "✅ Loaded end_inventory.csv into table `end_inventory`\n"
     ]
    }
   ],
   "source": [
    "import pandas as pd\n",
    "import mysql.connector\n",
    "import os\n",
    "\n",
    "# Connect to MySQL\n",
    "conn = mysql.connector.connect(\n",
    "    host='localhost',\n",
    "    user='root',\n",
    "    password='PASSWORD@629',\n",
    "    database='inventory'\n",
    ")\n",
    "cursor = conn.cursor()\n",
    "\n",
    "# Path to your data folder\n",
    "folder_path = r'C:/Users/User/Desktop/Data Analytics/All projects/Vendor performance analysis project/Dataset/data/'\n",
    "\n",
    "# Function to map pandas dtype to MySQL type\n",
    "def get_sql_type(dtype):\n",
    "    if pd.api.types.is_integer_dtype(dtype):\n",
    "        return 'INT'\n",
    "    elif pd.api.types.is_float_dtype(dtype):\n",
    "        return 'FLOAT'\n",
    "    elif pd.api.types.is_bool_dtype(dtype):\n",
    "        return 'BOOLEAN'\n",
    "    elif pd.api.types.is_datetime64_any_dtype(dtype):\n",
    "        return 'DATETIME'\n",
    "    else:\n",
    "        return 'TEXT'\n",
    "\n",
    "# Loop through all CSV files in folder\n",
    "for csv_file in os.listdir(folder_path):\n",
    "    if csv_file.lower().endswith('.csv'):\n",
    "        table_name = os.path.splitext(csv_file)[0]  # table name = file name without extension\n",
    "        file_path = os.path.join(folder_path, csv_file)\n",
    "        \n",
    "        # Read CSV\n",
    "        df = pd.read_csv(file_path)\n",
    "        df = df.where(pd.notnull(df), None)\n",
    "        df.columns = [col.replace(' ', '_').replace('-', '_').replace('.', '_') for col in df.columns]\n",
    "\n",
    "        # Create table\n",
    "        columns = ', '.join([f'`{col}` {get_sql_type(df[col].dtype)}' for col in df.columns])\n",
    "        cursor.execute(f'CREATE TABLE IF NOT EXISTS `{table_name}` ({columns})')\n",
    "\n",
    "        # Insert rows\n",
    "        for _, row in df.iterrows():\n",
    "            values = tuple(None if pd.isna(x) else x for x in row)\n",
    "            placeholders = ', '.join(['%s'] * len(row))\n",
    "            sql = f\"INSERT INTO `{table_name}` ({', '.join(['`' + col + '`' for col in df.columns])}) VALUES ({placeholders})\"\n",
    "            cursor.execute(sql, values)\n",
    "\n",
    "        conn.commit()\n",
    "        print(f\"✅ Loaded {csv_file} into table `{table_name}`\")\n",
    "\n",
    "# Close connection\n",
    "conn.close()\n"
   ]
  },
  {
   "cell_type": "code",
   "execution_count": null,
   "id": "ba550428-66cd-4258-b48b-f4829bc51482",
   "metadata": {},
   "outputs": [],
   "source": []
  },
  {
   "cell_type": "code",
   "execution_count": null,
   "id": "540be2a3-fe10-4c04-a6be-9ca0087e43fe",
   "metadata": {},
   "outputs": [],
   "source": []
  },
  {
   "cell_type": "code",
   "execution_count": null,
   "id": "56c1339f-c2a4-41e7-99a3-9553ca7998f9",
   "metadata": {},
   "outputs": [],
   "source": []
  },
  {
   "cell_type": "code",
   "execution_count": null,
   "id": "a7fe2fbc-612e-4f9a-80f2-742277fc2347",
   "metadata": {},
   "outputs": [],
   "source": []
  }
 ],
 "metadata": {
  "kernelspec": {
   "display_name": "Python 3 (ipykernel)",
   "language": "python",
   "name": "python3"
  },
  "language_info": {
   "codemirror_mode": {
    "name": "ipython",
    "version": 3
   },
   "file_extension": ".py",
   "mimetype": "text/x-python",
   "name": "python",
   "nbconvert_exporter": "python",
   "pygments_lexer": "ipython3",
   "version": "3.13.3"
  }
 },
 "nbformat": 4,
 "nbformat_minor": 5
}
